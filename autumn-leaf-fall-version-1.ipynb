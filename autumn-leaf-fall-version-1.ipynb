{
 "cells": [
  {
   "cell_type": "code",
   "execution_count": 1,
   "id": "83c97b57",
   "metadata": {
    "_cell_guid": "b1076dfc-b9ad-4769-8c92-a6c4dae69d19",
    "_uuid": "8f2839f25d086af736a60e9eeb907d3b93b6e0e5",
    "execution": {
     "iopub.execute_input": "2024-04-07T15:10:46.305969Z",
     "iopub.status.busy": "2024-04-07T15:10:46.305415Z",
     "iopub.status.idle": "2024-04-07T15:10:47.473672Z",
     "shell.execute_reply": "2024-04-07T15:10:47.472396Z"
    },
    "papermill": {
     "duration": 1.176636,
     "end_time": "2024-04-07T15:10:47.476873",
     "exception": false,
     "start_time": "2024-04-07T15:10:46.300237",
     "status": "completed"
    },
    "tags": []
   },
   "outputs": [],
   "source": [
    "import pandas as pd\n",
    "\n",
    "train = pd.read_csv(\"/kaggle/input/llm-prompt-recovery/train.csv\")\n",
    "test = pd.read_csv(\"/kaggle/input/llm-prompt-recovery/test.csv\")\n",
    "test['rewrite_prompt'] = \"Please enhance this text by modifying the writing style, while keeping the original meaning intact but changing the tone.\"  \n",
    "test = test[['id', 'rewrite_prompt']]"
   ]
  },
  {
   "cell_type": "code",
   "execution_count": 2,
   "id": "6e93e25c",
   "metadata": {
    "execution": {
     "iopub.execute_input": "2024-04-07T15:10:47.484365Z",
     "iopub.status.busy": "2024-04-07T15:10:47.483938Z",
     "iopub.status.idle": "2024-04-07T15:10:47.497035Z",
     "shell.execute_reply": "2024-04-07T15:10:47.495627Z"
    },
    "papermill": {
     "duration": 0.02011,
     "end_time": "2024-04-07T15:10:47.499926",
     "exception": false,
     "start_time": "2024-04-07T15:10:47.479816",
     "status": "completed"
    },
    "tags": []
   },
   "outputs": [],
   "source": [
    "test.to_csv('submission.csv', header=True, index=False)\n",
    "sub = pd.read_csv(\"/kaggle/working/submission.csv\")\n",
    "#sub"
   ]
  },
  {
   "cell_type": "code",
   "execution_count": 3,
   "id": "3f1a9411",
   "metadata": {
    "execution": {
     "iopub.execute_input": "2024-04-07T15:10:47.506986Z",
     "iopub.status.busy": "2024-04-07T15:10:47.506526Z",
     "iopub.status.idle": "2024-04-07T15:10:47.523553Z",
     "shell.execute_reply": "2024-04-07T15:10:47.522084Z"
    },
    "papermill": {
     "duration": 0.023539,
     "end_time": "2024-04-07T15:10:47.526192",
     "exception": false,
     "start_time": "2024-04-07T15:10:47.502653",
     "status": "completed"
    },
    "tags": []
   },
   "outputs": [
    {
     "data": {
      "text/html": [
       "<div>\n",
       "<style scoped>\n",
       "    .dataframe tbody tr th:only-of-type {\n",
       "        vertical-align: middle;\n",
       "    }\n",
       "\n",
       "    .dataframe tbody tr th {\n",
       "        vertical-align: top;\n",
       "    }\n",
       "\n",
       "    .dataframe thead th {\n",
       "        text-align: right;\n",
       "    }\n",
       "</style>\n",
       "<table border=\"1\" class=\"dataframe\">\n",
       "  <thead>\n",
       "    <tr style=\"text-align: right;\">\n",
       "      <th></th>\n",
       "      <th>id</th>\n",
       "      <th>rewrite_prompt</th>\n",
       "    </tr>\n",
       "  </thead>\n",
       "  <tbody>\n",
       "    <tr>\n",
       "      <th>0</th>\n",
       "      <td>-1</td>\n",
       "      <td>Please enhance this text by modifying the writ...</td>\n",
       "    </tr>\n",
       "  </tbody>\n",
       "</table>\n",
       "</div>"
      ],
      "text/plain": [
       "   id                                     rewrite_prompt\n",
       "0  -1  Please enhance this text by modifying the writ..."
      ]
     },
     "execution_count": 3,
     "metadata": {},
     "output_type": "execute_result"
    }
   ],
   "source": [
    "sub.head()"
   ]
  },
  {
   "cell_type": "code",
   "execution_count": null,
   "id": "117b18cb",
   "metadata": {
    "papermill": {
     "duration": 0.002504,
     "end_time": "2024-04-07T15:10:47.531599",
     "exception": false,
     "start_time": "2024-04-07T15:10:47.529095",
     "status": "completed"
    },
    "tags": []
   },
   "outputs": [],
   "source": []
  }
 ],
 "metadata": {
  "kaggle": {
   "accelerator": "none",
   "dataSources": [
    {
     "databundleVersionId": 7806901,
     "sourceId": 67121,
     "sourceType": "competition"
    }
   ],
   "dockerImageVersionId": 30673,
   "isGpuEnabled": false,
   "isInternetEnabled": false,
   "language": "python",
   "sourceType": "notebook"
  },
  "kernelspec": {
   "display_name": "Python 3",
   "language": "python",
   "name": "python3"
  },
  "language_info": {
   "codemirror_mode": {
    "name": "ipython",
    "version": 3
   },
   "file_extension": ".py",
   "mimetype": "text/x-python",
   "name": "python",
   "nbconvert_exporter": "python",
   "pygments_lexer": "ipython3",
   "version": "3.10.13"
  },
  "papermill": {
   "default_parameters": {},
   "duration": 5.817175,
   "end_time": "2024-04-07T15:10:48.055734",
   "environment_variables": {},
   "exception": null,
   "input_path": "__notebook__.ipynb",
   "output_path": "__notebook__.ipynb",
   "parameters": {},
   "start_time": "2024-04-07T15:10:42.238559",
   "version": "2.5.0"
  }
 },
 "nbformat": 4,
 "nbformat_minor": 5
}
